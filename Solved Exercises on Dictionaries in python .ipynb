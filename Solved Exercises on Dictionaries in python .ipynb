{
 "cells": [
  {
   "cell_type": "markdown",
   "id": "a70ba756",
   "metadata": {},
   "source": [
    "# Solved Exercises on Dictionaries in python "
   ]
  },
  {
   "cell_type": "code",
   "execution_count": 1,
   "id": "ae6781e4",
   "metadata": {},
   "outputs": [
    {
     "name": "stdout",
     "output_type": "stream",
     "text": [
      "{'name': 'musab', 'age': 18, 'city': 'lahore', 'hobby': 'traveling'}\n"
     ]
    }
   ],
   "source": [
    "person= {\n",
    "    \"name\": \"musab\",\n",
    "    \"age\": 18,\n",
    "    \"city\": \"lahore\",\n",
    "    \"hobby\":\"traveling\"\n",
    "}\n",
    "print(person)"
   ]
  },
  {
   "cell_type": "code",
   "execution_count": 15,
   "id": "1399209f",
   "metadata": {},
   "outputs": [
    {
     "name": "stdout",
     "output_type": "stream",
     "text": [
      "hello: 2\n",
      "world!: 1\n",
      "its: 1\n",
      "musab: 1\n",
      "here: 1\n"
     ]
    }
   ],
   "source": [
    "text = \"Hello world! its musab here HELLO \"\n",
    "words = text.split()\n",
    "word_count = {}\n",
    "\n",
    "for word in words:\n",
    "    word = word.lower()\n",
    "    if word in word_count:\n",
    "        word_count[word] += 1\n",
    "    else:\n",
    "        word_count[word] = 1\n",
    "\n",
    "for word, count in word_count.items():\n",
    "    print(f\"{word}: {count}\")"
   ]
  },
  {
   "cell_type": "code",
   "execution_count": 11,
   "id": "76463e8d",
   "metadata": {},
   "outputs": [
    {
     "name": "stdout",
     "output_type": "stream",
     "text": [
      "apples: 70\n",
      "bananas: 100\n",
      "oranges: 75\n",
      "grapes: 30\n",
      "kiwis: 40\n"
     ]
    }
   ],
   "source": [
    "inventory = {\n",
    "    \"apples\": 50,\n",
    "    \"bananas\": 100,\n",
    "    \"oranges\": 75,\n",
    "    \"grapes\": 30\n",
    "}\n",
    "\n",
    "inventory[\"apples\"] += 20\n",
    "inventory[\"Strawberry\"] = 40\n",
    "\n",
    "for item, quantity in inventory.items():\n",
    "    print(f\"{item}: {quantity}\")\n",
    "\n",
    "    "
   ]
  },
  {
   "cell_type": "code",
   "execution_count": 20,
   "id": "1c1d5ab4",
   "metadata": {},
   "outputs": [
    {
     "name": "stdout",
     "output_type": "stream",
     "text": [
      " Average grade is 87.6\n"
     ]
    }
   ],
   "source": [
    "grades = {\n",
    "    \"musab\": 85,\n",
    "    \"haider\": 92,\n",
    "    \"alee\": 78,\n",
    "    \"bhatti\": 88,\n",
    "    \"ahmed\": 95\n",
    "}\n",
    "\n",
    "average_grade = sum(grades.values()) / len(grades)\n",
    "\n",
    "print(f\" Average grade is {average_grade}\")"
   ]
  },
  {
   "cell_type": "code",
   "execution_count": 23,
   "id": "57b06209",
   "metadata": {},
   "outputs": [
    {
     "name": "stdout",
     "output_type": "stream",
     "text": [
      "Total inventory value: 325\n",
      "Low-stock items: ['bicycles']\n"
     ]
    }
   ],
   "source": [
    "inventory = {}\n",
    "\n",
    "inventory[\"car\"] = {\"quantity\": 10, \"price\": 20}\n",
    "inventory[\"bicycles\"] = {\"quantity\": 2, \"price\": 39}\n",
    "inventory[\"bikes\"] = {\"quantity\": 0, \"price\": 25}\n",
    "inventory[\"bicycles\"][\"quantity\"] -= 2\n",
    "inventory[\"bikes\"][\"quantity\"] += 5\n",
    "\n",
    "total_value = 0\n",
    "for product in inventory.values():\n",
    "    total_value += product[\"quantity\"] * product[\"price\"]\n",
    "\n",
    "    low_stock_items = []\n",
    "count = 5\n",
    "for name, details in inventory.items():\n",
    "    if details[\"quantity\"] < count:\n",
    "        low_stock_items.append(name)\n",
    "\n",
    "print(f\"Total inventory value: {total_value}\")\n",
    "print(f\"Low-stock items: {low_stock_items}\")"
   ]
  },
  {
   "cell_type": "code",
   "execution_count": 24,
   "id": "ada7de35",
   "metadata": {},
   "outputs": [
    {
     "name": "stdout",
     "output_type": "stream",
     "text": [
      "Highest grade in Math: ('Charlie', 92)\n",
      "Lowest grade in Math: ('David', 65)\n",
      "\n",
      "Sorted students by average grades:\n",
      "Charlie: 91.33\n",
      "Alice: 87.67\n",
      "Bob: 79.67\n",
      "David: 69.00\n"
     ]
    }
   ],
   "source": [
    "students = {\n",
    "    \"Alice\": {\"Math\": 85, \"Science\": 90, \"English\": 88},\n",
    "    \"Bob\": {\"Math\": 78, \"Science\": 82, \"English\": 79},\n",
    "    \"Charlie\": {\"Math\": 92, \"Science\": 88, \"English\": 94},\n",
    "    \"David\": {\"Math\": 65, \"Science\": 70, \"English\": 72},\n",
    "}\n",
    "\n",
    "student_averages = {}\n",
    "for student, grades in students.items():\n",
    "    total_grades = sum(grades.values())\n",
    "    average = total_grades / len(grades)\n",
    "    student_averages[student] = average\n",
    "\n",
    "subject = \"Math\"\n",
    "highest = None\n",
    "lowest = None\n",
    "for student, grades in students.items():\n",
    "    grade = grades[subject]\n",
    "    if highest is None or grade > highest[1]:\n",
    "        highest = (student, grade)\n",
    "    if lowest is None or grade < lowest[1]:\n",
    "        lowest = (student, grade)\n",
    "\n",
    "print(f\"Highest grade in {subject}: {highest}\")\n",
    "print(f\"Lowest grade in {subject}: {lowest}\")\n",
    "\n",
    "sorted_students = []\n",
    "for student, avg in student_averages.items():\n",
    "    sorted_students.append((student, avg))\n",
    "\n",
    "for i in range(len(sorted_students)):\n",
    "    for j in range(i + 1, len(sorted_students)):\n",
    "        if sorted_students[i][1] < sorted_students[j][1]:\n",
    "            sorted_students[i], sorted_students[j] = sorted_students[j], sorted_students[i]\n",
    "\n",
    "print(\"\\nSorted students by average grades:\")\n",
    "for student, avg in sorted_students:\n",
    "    print(f\"{student}: {avg:.2f}\")"
   ]
  },
  {
   "cell_type": "code",
   "execution_count": null,
   "id": "55d21331",
   "metadata": {},
   "outputs": [],
   "source": []
  }
 ],
 "metadata": {
  "kernelspec": {
   "display_name": "Python 3 (ipykernel)",
   "language": "python",
   "name": "python3"
  },
  "language_info": {
   "codemirror_mode": {
    "name": "ipython",
    "version": 3
   },
   "file_extension": ".py",
   "mimetype": "text/x-python",
   "name": "python",
   "nbconvert_exporter": "python",
   "pygments_lexer": "ipython3",
   "version": "3.11.5"
  }
 },
 "nbformat": 4,
 "nbformat_minor": 5
}
